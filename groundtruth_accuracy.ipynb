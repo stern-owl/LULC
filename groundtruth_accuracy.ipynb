{
 "cells": [
  {
   "cell_type": "code",
   "execution_count": 1,
   "id": "639b5c29-e21d-4892-ba16-1ed4500dcfce",
   "metadata": {},
   "outputs": [
    {
     "name": "stdout",
     "output_type": "stream",
     "text": [
      "Accuracy: 82.22%\n",
      "Confusion Matrix:\n",
      "[[ 0  0  0  0  0  0]\n",
      " [ 0 13  0  0  0  0]\n",
      " [ 1  4  5  0  0  0]\n",
      " [ 1  0  0  1  0  0]\n",
      " [ 1  0  0  0  9  0]\n",
      " [ 0  0  0  0  1  9]]\n"
     ]
    }
   ],
   "source": [
    "import rasterio\n",
    "import geopandas as gpd\n",
    "import numpy as np\n",
    "from rasterio.features import rasterize\n",
    "from shapely.geometry import box\n",
    "from sklearn.metrics import confusion_matrix\n",
    "import os\n",
    "\n",
    "def load_shape_files(shape_file_paths):\n",
    "    \"\"\"Load shape files and return a list of GeoDataFrames.\"\"\"\n",
    "    return [gpd.read_file(path) for path in shape_file_paths]\n",
    "\n",
    "def rasterize_shapes(shape_files, out_shape, transform, classes, bounds):\n",
    "    \"\"\"Rasterize the shape files to match the raster image dimensions.\"\"\"\n",
    "    ground_truth_raster = np.zeros(out_shape, dtype=np.int32)\n",
    "    image_box = box(*bounds)  # Create a bounding box of the TIF image\n",
    "\n",
    "    for i, shape_file in enumerate(shape_files):\n",
    "        valid_geometries = shape_file[shape_file.geometry.intersects(image_box)]  # Filter geometries within image bounds\n",
    "        if valid_geometries.empty:\n",
    "            continue\n",
    "\n",
    "        shapes = ((geom, classes[i]) for geom in valid_geometries.geometry)\n",
    "        try:\n",
    "            raster = rasterize(shapes, out_shape=out_shape, transform=transform, fill=0)\n",
    "            ground_truth_raster[raster > 0] = classes[i]\n",
    "        except Exception as e:\n",
    "            print(f\"Error rasterizing shapes for class {classes[i]}: {e}\")\n",
    "\n",
    "    return ground_truth_raster\n",
    "\n",
    "# Example usage to load shape files and rasterize them\n",
    "shape_file_dir = 'data_directory'  # Subdirectory for shape files\n",
    "shape_file_paths = [os.path.join(shape_file_dir, f'class{i}.shp') for i in range(1, 7)]\n",
    "shape_files = load_shape_files(shape_file_paths)\n",
    "\n",
    "# Load the classified image\n",
    "classified_image_path = 'Ensembled_output.tif'  # Adjust with your classified image path\n",
    "with rasterio.open(classified_image_path) as src:\n",
    "    classified_image = src.read(1)  # Assuming single-band TIF\n",
    "    transform = src.transform\n",
    "    out_shape = (src.height, src.width)\n",
    "    bounds = src.bounds\n",
    "\n",
    "# Define the classes corresponding to each shape file\n",
    "classes = [1, 2, 3, 4, 5, 6]\n",
    "\n",
    "# Rasterize the shape files to create the ground truth raster\n",
    "ground_truth_raster = rasterize_shapes(shape_files, out_shape, transform, classes, bounds)\n",
    "\n",
    "# Flatten both the ground truth raster and the classified image to match for comparison\n",
    "ground_truth_labels = ground_truth_raster.flatten()\n",
    "predicted_labels = classified_image.flatten()\n",
    "\n",
    "# Calculate the confusion matrix and accuracy\n",
    "conf_matrix = confusion_matrix(ground_truth_labels, predicted_labels, labels=classes)\n",
    "accuracy = np.diag(conf_matrix).sum() / conf_matrix.sum()\n",
    "\n",
    "# Output the results\n",
    "print(f\"Accuracy: {accuracy * 100:.2f}%\")\n",
    "print(\"Confusion Matrix:\")\n",
    "print(conf_matrix)"
   ]
  },
  {
   "cell_type": "code",
   "execution_count": null,
   "id": "c926f580-870b-4dec-ab1e-a4183e53d3ec",
   "metadata": {},
   "outputs": [],
   "source": []
  }
 ],
 "metadata": {
  "kernelspec": {
   "display_name": "Python 3 (ipykernel)",
   "language": "python",
   "name": "python3"
  },
  "language_info": {
   "codemirror_mode": {
    "name": "ipython",
    "version": 3
   },
   "file_extension": ".py",
   "mimetype": "text/x-python",
   "name": "python",
   "nbconvert_exporter": "python",
   "pygments_lexer": "ipython3",
   "version": "3.11.7"
  }
 },
 "nbformat": 4,
 "nbformat_minor": 5
}
